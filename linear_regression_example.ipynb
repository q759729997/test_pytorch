{
  "nbformat": 4,
  "nbformat_minor": 0,
  "metadata": {
    "colab": {
      "name": "linear_regression_example.ipynb",
      "provenance": [],
      "collapsed_sections": [],
      "include_colab_link": true
    },
    "kernelspec": {
      "name": "python3",
      "display_name": "Python 3"
    }
  },
  "cells": [
    {
      "cell_type": "markdown",
      "metadata": {
        "id": "view-in-github",
        "colab_type": "text"
      },
      "source": [
        "<a href=\"https://colab.research.google.com/github/q759729997/test_pytorch/blob/master/linear_regression_example.ipynb\" target=\"_parent\"><img src=\"https://colab.research.google.com/assets/colab-badge.svg\" alt=\"Open In Colab\"/></a>"
      ]
    },
    {
      "cell_type": "markdown",
      "metadata": {
        "id": "GTY7h4RD4HBX",
        "colab_type": "text"
      },
      "source": [
        "# 现行回归的简洁实现"
      ]
    },
    {
      "cell_type": "code",
      "metadata": {
        "id": "S_AwNedZ4AIf",
        "colab_type": "code",
        "colab": {}
      },
      "source": [
        "import torch\n",
        "import numpy as np"
      ],
      "execution_count": 0,
      "outputs": []
    },
    {
      "cell_type": "code",
      "metadata": {
        "id": "ysoBc2e04RY3",
        "colab_type": "code",
        "colab": {}
      },
      "source": [
        "num_inputs = 2\n",
        "num_examples = 1000\n",
        "true_w = [2, -3.4]\n",
        "true_b = 4.2\n",
        "features = torch.tensor(np.random.normal(0,1,(num_examples, num_inputs)),dtype=torch.float)\n",
        "labels = true_w[0]*features[:,0]+true_w[1]*features[:,1]+true_b\n",
        "labels += torch.tensor(np.random.normal(0,0.01,size=labels.size()),dtype=torch.float)"
      ],
      "execution_count": 0,
      "outputs": []
    },
    {
      "cell_type": "code",
      "metadata": {
        "id": "UzBuwLI25oei",
        "colab_type": "code",
        "colab": {
          "base_uri": "https://localhost:8080/",
          "height": 34
        },
        "outputId": "53a55414-7e6c-4e60-9b9a-762ebd8af789"
      },
      "source": [
        "features.size()"
      ],
      "execution_count": 11,
      "outputs": [
        {
          "output_type": "execute_result",
          "data": {
            "text/plain": [
              "torch.Size([1000, 2])"
            ]
          },
          "metadata": {
            "tags": []
          },
          "execution_count": 11
        }
      ]
    },
    {
      "cell_type": "code",
      "metadata": {
        "id": "AX-xgNia5vP4",
        "colab_type": "code",
        "colab": {
          "base_uri": "https://localhost:8080/",
          "height": 34
        },
        "outputId": "0b28c93d-c410-41c6-e28f-c2ee0d14dfe4"
      },
      "source": [
        "labels.size()"
      ],
      "execution_count": 12,
      "outputs": [
        {
          "output_type": "execute_result",
          "data": {
            "text/plain": [
              "torch.Size([1000])"
            ]
          },
          "metadata": {
            "tags": []
          },
          "execution_count": 12
        }
      ]
    },
    {
      "cell_type": "code",
      "metadata": {
        "id": "9KEd-gIA5zLH",
        "colab_type": "code",
        "colab": {}
      },
      "source": [
        "# 读取数据\n",
        "batch_size = 10\n",
        "# 将训练数据的特征和标签组合\n",
        "dataset = torch.utils.data.TensorDataset(features,labels)\n",
        "# 随机读取小批量\n",
        "data_iter = torch.utils.data.DataLoader(dataset,batch_size,shuffle=True)"
      ],
      "execution_count": 0,
      "outputs": []
    },
    {
      "cell_type": "code",
      "metadata": {
        "id": "IIn-OtBd6na_",
        "colab_type": "code",
        "colab": {
          "base_uri": "https://localhost:8080/",
          "height": 202
        },
        "outputId": "1eedb781-9520-4e32-f410-05d669d964ad"
      },
      "source": [
        "for X,y in data_iter:\n",
        "  print(X,y)\n",
        "  break"
      ],
      "execution_count": 14,
      "outputs": [
        {
          "output_type": "stream",
          "text": [
            "tensor([[-2.2198, -0.6570],\n",
            "        [ 0.1922, -1.4269],\n",
            "        [ 0.5215, -0.4237],\n",
            "        [-1.5246,  0.6838],\n",
            "        [ 0.1469, -1.0290],\n",
            "        [ 0.3899,  0.5862],\n",
            "        [ 2.1282, -1.2686],\n",
            "        [-0.7979, -1.0947],\n",
            "        [-2.9282, -0.1944],\n",
            "        [-1.0370, -1.8211]]) tensor([ 2.0147,  9.4344,  6.6825, -1.1695,  7.9917,  2.9668, 12.7587,  6.3389,\n",
            "        -0.9830,  8.3058])\n"
          ],
          "name": "stdout"
        }
      ]
    },
    {
      "cell_type": "code",
      "metadata": {
        "id": "1ZZTZdrB6wQI",
        "colab_type": "code",
        "colab": {
          "base_uri": "https://localhost:8080/",
          "height": 67
        },
        "outputId": "1d3121c1-c553-42df-c41a-48b0ca6630e7"
      },
      "source": [
        "# 定义模型\n",
        "class LinearNet(torch.nn.Module):\n",
        "  def __init__(self,n_feature):\n",
        "    super(LinearNet,self).__init__()\n",
        "    self.linear = torch.nn.Linear(n_feature,1)\n",
        "  # forward定义前向传播\n",
        "  def forward(self,x):\n",
        "    y = self.linear(x)\n",
        "    return y\n",
        "\n",
        "net = LinearNet(num_inputs)\n",
        "print(net)"
      ],
      "execution_count": 15,
      "outputs": [
        {
          "output_type": "stream",
          "text": [
            "LinearNet(\n",
            "  (linear): Linear(in_features=2, out_features=1, bias=True)\n",
            ")\n"
          ],
          "name": "stdout"
        }
      ]
    },
    {
      "cell_type": "code",
      "metadata": {
        "id": "jV7NyQAZAKjb",
        "colab_type": "code",
        "colab": {
          "base_uri": "https://localhost:8080/",
          "height": 84
        },
        "outputId": "0ad955bf-1bd2-406d-df3c-bb8ebc0d1a31"
      },
      "source": [
        "# 查看参数\n",
        "for param in net.parameters():\n",
        "  print(param)"
      ],
      "execution_count": 17,
      "outputs": [
        {
          "output_type": "stream",
          "text": [
            "Parameter containing:\n",
            "tensor([[0.4655, 0.4406]], requires_grad=True)\n",
            "Parameter containing:\n",
            "tensor([-0.0959], requires_grad=True)\n"
          ],
          "name": "stdout"
        }
      ]
    },
    {
      "cell_type": "code",
      "metadata": {
        "id": "--Juq-ujAXQc",
        "colab_type": "code",
        "colab": {
          "base_uri": "https://localhost:8080/",
          "height": 34
        },
        "outputId": "f217db50-9c10-4b7a-a28c-a6810894076c"
      },
      "source": [
        "# 定义损失函数\n",
        "loss = torch.nn.MSELoss()\n",
        "print(loss)"
      ],
      "execution_count": 24,
      "outputs": [
        {
          "output_type": "stream",
          "text": [
            "MSELoss()\n"
          ],
          "name": "stdout"
        }
      ]
    },
    {
      "cell_type": "code",
      "metadata": {
        "id": "xjznrVy6BbQ7",
        "colab_type": "code",
        "colab": {
          "base_uri": "https://localhost:8080/",
          "height": 151
        },
        "outputId": "d2989dec-7a12-4ecd-a279-01796492487c"
      },
      "source": [
        "# 定义优化算法\n",
        "optimizer = torch.optim.SGD(net.parameters(),lr=0.03)\n",
        "print(optimizer)"
      ],
      "execution_count": 25,
      "outputs": [
        {
          "output_type": "stream",
          "text": [
            "SGD (\n",
            "Parameter Group 0\n",
            "    dampening: 0\n",
            "    lr: 0.03\n",
            "    momentum: 0\n",
            "    nesterov: False\n",
            "    weight_decay: 0\n",
            ")\n"
          ],
          "name": "stdout"
        }
      ]
    },
    {
      "cell_type": "code",
      "metadata": {
        "id": "hS5sRyPzCR2T",
        "colab_type": "code",
        "colab": {
          "base_uri": "https://localhost:8080/",
          "height": 185
        },
        "outputId": "7a20b52e-0ed5-4f1a-98ec-ccbfcad9a74d"
      },
      "source": [
        "# 训练模型\n",
        "num_epochs = 10\n",
        "for epoch in range(1,num_epochs+1):\n",
        "  for X,y in data_iter:\n",
        "    output = net(X)\n",
        "    l = loss(output,y.view(-1,1))\n",
        "    optimizer.zero_grad() # 梯度清零\n",
        "    l.backward()\n",
        "    optimizer.step()\n",
        "  print('epoch:{}, loss:{}'.format(epoch,l))"
      ],
      "execution_count": 27,
      "outputs": [
        {
          "output_type": "stream",
          "text": [
            "epoch:1, loss:0.00021883817680645734\n",
            "epoch:2, loss:0.00017317570745944977\n",
            "epoch:3, loss:0.00012074378173565492\n",
            "epoch:4, loss:0.0001122339308494702\n",
            "epoch:5, loss:0.0001308737409999594\n",
            "epoch:6, loss:9.369711187900975e-05\n",
            "epoch:7, loss:0.00011131448263768107\n",
            "epoch:8, loss:4.063736560055986e-05\n",
            "epoch:9, loss:4.807809818885289e-05\n",
            "epoch:10, loss:0.00013224477879703045\n"
          ],
          "name": "stdout"
        }
      ]
    },
    {
      "cell_type": "code",
      "metadata": {
        "id": "BTBns1o2D4Mq",
        "colab_type": "code",
        "colab": {
          "base_uri": "https://localhost:8080/",
          "height": 84
        },
        "outputId": "6daf229f-b07c-403a-f8d4-d60b58012030"
      },
      "source": [
        "# 查看模型学到的参数\n",
        "dense = net.linear\n",
        "print(true_w, dense.weight)\n",
        "print(true_b, dense.bias)"
      ],
      "execution_count": 28,
      "outputs": [
        {
          "output_type": "stream",
          "text": [
            "[2, -3.4] Parameter containing:\n",
            "tensor([[ 1.9996, -3.4004]], requires_grad=True)\n",
            "4.2 Parameter containing:\n",
            "tensor([4.2000], requires_grad=True)\n"
          ],
          "name": "stdout"
        }
      ]
    }
  ]
}